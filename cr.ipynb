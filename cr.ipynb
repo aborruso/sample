{
  "cells": [
    {
      "cell_type": "markdown",
      "metadata": {},
      "source": [
        "# CR\n",
        "\n",
        "## Sample section {#sec-lorem-ipsum-this}\n",
        "\n",
        "This section is associated with `#sec-lorem-ipsum-this` label.\n",
        "\n",
        "To suppress cross-reference prefix prepend `-` before `@`, like so `[-@citation]`, will suppress default prefix, e.g. `[-@sec-visualization]` will produce just `1.1` (or whatever number this section happens to be) without `Section` prefix.\n",
        "\n",
        "\n",
        "\n",
        "```{markdown}\n",
        "See [-@sec-visualization].\n",
        "```"
      ],
      "id": "0a6a3876"
    }
  ],
  "metadata": {
    "kernelspec": {
      "name": "python3",
      "language": "python",
      "display_name": "Python 3 (ipykernel)"
    }
  },
  "nbformat": 4,
  "nbformat_minor": 5
}